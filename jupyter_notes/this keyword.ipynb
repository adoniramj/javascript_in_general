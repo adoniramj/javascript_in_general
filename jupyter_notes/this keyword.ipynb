{
 "cells": [
  {
   "cell_type": "code",
   "execution_count": 1,
   "metadata": {},
   "outputs": [],
   "source": [
    "//Block of code 1\n",
    "const user = {\n",
    "    name: 'John',\n",
    "    cities: ['Miami', 'Denver', 'Seattle'],\n",
    "    //When adding an ES5 function to an object property, 'this' is bound to the object. In this case the object is user.\n",
    "    printName: function () {\n",
    "        console.log(this.name)\n",
    "    }\n",
    "}"
   ]
  },
  {
   "cell_type": "code",
   "execution_count": 2,
   "metadata": {},
   "outputs": [
    {
     "name": "stdout",
     "output_type": "stream",
     "text": [
      "John\n"
     ]
    }
   ],
   "source": [
    "user.printName()"
   ]
  },
  {
   "cell_type": "code",
   "execution_count": 3,
   "metadata": {},
   "outputs": [],
   "source": [
    "//Block of code 2\n",
    "const user1 = {\n",
    "    name: 'John',\n",
    "    cities: ['Miami', 'Denver', 'Seattle'],\n",
    "    printName: function () {\n",
    "        console.log(this.name)\n",
    "        //The below function is not 'added' to the object property, therefore 'this' is not bound to the object (user1)\n",
    "        this.cities.forEach(function (city) {\n",
    "            console.log(this.name + ' has lived in ' + city)\n",
    "        })\n",
    "    }\n",
    "}"
   ]
  },
  {
   "cell_type": "code",
   "execution_count": 4,
   "metadata": {},
   "outputs": [
    {
     "name": "stdout",
     "output_type": "stream",
     "text": [
      "John\n",
      "undefined has lived in Miami\n",
      "undefined has lived in Denver\n",
      "undefined has lived in Seattle\n"
     ]
    }
   ],
   "source": [
    "user1.printName() //Running this code in Jupyter notebooks this.name inside the forEach will produce undefined.\n",
    "// Running the same code in Node.js or the browser will produce Uncaught TypeError: \n",
    "//Cannot read property 'name of undefined'"
   ]
  },
  {
   "cell_type": "markdown",
   "metadata": {},
   "source": [
    "To emphasize `this.name + 'has lived in ' + city` => this.name is undefined."
   ]
  },
  {
   "cell_type": "code",
   "execution_count": 5,
   "metadata": {},
   "outputs": [],
   "source": [
    "//Block of code 3\n",
    "//Modifying the forEach callback function of block of code 2. Changing the function from ES5 to ES6 arrow function\n",
    "const user2 = {\n",
    "    name: 'John',\n",
    "    cities: ['Miami', 'Denver', 'Seattle'],\n",
    "    printName: function () {\n",
    "        console.log(this.name)\n",
    "          this.cities.forEach((city) => {\n",
    "          console.log(this.name + ' has lived in ' + city)\n",
    "        })\n",
    "    }\n",
    "}"
   ]
  },
  {
   "cell_type": "code",
   "execution_count": 6,
   "metadata": {},
   "outputs": [
    {
     "name": "stdout",
     "output_type": "stream",
     "text": [
      "John\n",
      "John has lived in Miami\n",
      "John has lived in Denver\n",
      "John has lived in Seattle\n"
     ]
    }
   ],
   "source": [
    "user2.printName()"
   ]
  },
  {
   "cell_type": "markdown",
   "metadata": {},
   "source": [
    "In block of code 3. In the forEach method, `this` is not bound to the object. Insteat,`this` uses value in the context they were created in."
   ]
  },
  {
   "cell_type": "code",
   "execution_count": 7,
   "metadata": {},
   "outputs": [],
   "source": [
    "const user3 = {\n",
    "    name: 'John',\n",
    "    cities: ['Miami', 'Denver', 'Seattle'],\n",
    "    printName: () => {\n",
    "          this.cities.forEach((city) => {\n",
    "          console.log(this.name + ' has lived in ' + city)\n",
    "        })\n",
    "    }\n",
    "}"
   ]
  },
  {
   "cell_type": "code",
   "execution_count": 8,
   "metadata": {},
   "outputs": [
    {
     "ename": "TypeError",
     "evalue": "Cannot read property 'forEach' of undefined",
     "output_type": "error",
     "traceback": [
      "evalmachine.<anonymous>:5",
      "          this.cities.forEach((city) => {",
      "                      ^",
      "",
      "TypeError: Cannot read property 'forEach' of undefined",
      "    at Object.printName (evalmachine.<anonymous>:5:23)",
      "    at evalmachine.<anonymous>:1:7",
      "    at Script.runInThisContext (vm.js:96:20)",
      "    at Object.runInThisContext (vm.js:303:38)",
      "    at run ([eval]:1054:15)",
      "    at onRunRequest ([eval]:888:18)",
      "    at onMessage ([eval]:848:13)",
      "    at process.emit (events.js:182:13)",
      "    at emit (internal/child_process.js:812:12)",
      "    at process._tickCallback (internal/process/next_tick.js:63:19)"
     ]
    }
   ],
   "source": [
    "user3.printName() //This will produce an error.\n",
    "//Why?\n",
    "//Since arrow functions do not bind `this` to the object. In this case the arrow function will go to its\n",
    "//parent scope. In this case is the global scope."
   ]
  },
  {
   "cell_type": "markdown",
   "metadata": {},
   "source": [
    "If you want to use this inside an object, use ES5 functions."
   ]
  }
 ],
 "metadata": {
  "kernelspec": {
   "display_name": "Javascript (Node.js)",
   "language": "javascript",
   "name": "javascript"
  },
  "language_info": {
   "file_extension": ".js",
   "mimetype": "application/javascript",
   "name": "javascript",
   "version": "10.13.0"
  }
 },
 "nbformat": 4,
 "nbformat_minor": 2
}
