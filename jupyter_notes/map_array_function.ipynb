{
 "cells": [
  {
   "cell_type": "markdown",
   "metadata": {},
   "source": [
    "# Map array function"
   ]
  },
  {
   "cell_type": "markdown",
   "metadata": {},
   "source": [
    "The map method takes a function and applies it to every item of the array and returns a new modified array.\n",
    "Map does not modify the original array."
   ]
  },
  {
   "cell_type": "code",
   "execution_count": 1,
   "metadata": {},
   "outputs": [],
   "source": [
    "let original_arr = [1,2,3,4,5]"
   ]
  },
  {
   "cell_type": "code",
   "execution_count": 2,
   "metadata": {},
   "outputs": [
    {
     "name": "stdout",
     "output_type": "stream",
     "text": [
      "[ 2, 4, 6, 8, 10 ]\n"
     ]
    }
   ],
   "source": [
    "let new_arr = original_arr.map(element => element*2)\n",
    "console.log(new_arr)"
   ]
  },
  {
   "cell_type": "markdown",
   "metadata": {},
   "source": [
    "## Rewriting the map method using vanilla JS."
   ]
  },
  {
   "cell_type": "code",
   "execution_count": 3,
   "metadata": {},
   "outputs": [],
   "source": [
    "function times_two(number) {\n",
    "    return number*2 \n",
    "}"
   ]
  },
  {
   "cell_type": "code",
   "execution_count": 4,
   "metadata": {},
   "outputs": [],
   "source": [
    "function map(array, f) {\n",
    "    let copy = []\n",
    "    let original_data = 0\n",
    "    let modified_data = 0\n",
    "    for (let i = 0; i < array.length; i++) {\n",
    "        original_data = array[i]\n",
    "        modified_data = f(original_data)\n",
    "        copy[i] = modified_data\n",
    "    }\n",
    "    return copy;\n",
    "}"
   ]
  },
  {
   "cell_type": "code",
   "execution_count": 5,
   "metadata": {},
   "outputs": [],
   "source": [
    "let new_arr2 = map(original_arr, times_two)"
   ]
  },
  {
   "cell_type": "code",
   "execution_count": 6,
   "metadata": {},
   "outputs": [
    {
     "name": "stdout",
     "output_type": "stream",
     "text": [
      "[ 2, 4, 6, 8, 10 ]\n"
     ]
    }
   ],
   "source": [
    "console.log(new_arr2)"
   ]
  },
  {
   "cell_type": "markdown",
   "metadata": {},
   "source": [
    "## Using map and ternary operator to modify an array of objects"
   ]
  },
  {
   "cell_type": "code",
   "execution_count": 7,
   "metadata": {},
   "outputs": [
    {
     "name": "stdout",
     "output_type": "stream",
     "text": [
      "[ { action: 'Buy paper', done: false },\n",
      "  { action: 'Change oil', done: false },\n",
      "  { action: 'Buy a car', done: true } ]\n"
     ]
    }
   ],
   "source": [
    "let todoItems = [\n",
    "            {action: 'Buy paper', done: false},\n",
    "            {action: 'Change oil', done: false},\n",
    "            {action: 'Buy a car', done: false}\n",
    "           ]\n",
    "\n",
    "let toModify = 'Buy a car'\n",
    "\n",
    "// modify the last action to change done to true\n",
    "\n",
    "todoItems = todoItems.map(item => item.action === toModify ? {...item, done: !item.done } : item )\n",
    "\n",
    "console.log(todoItems)"
   ]
  },
  {
   "cell_type": "markdown",
   "metadata": {},
   "source": [
    "Using the ternary to modify only one item of the array. The other two items are not modified. Using the spread operator to modify the last item. In this case the ternary operator is acting as the callback function."
   ]
  }
 ],
 "metadata": {
  "kernelspec": {
   "display_name": "Javascript (Node.js)",
   "language": "javascript",
   "name": "javascript"
  },
  "language_info": {
   "file_extension": ".js",
   "mimetype": "application/javascript",
   "name": "javascript",
   "version": "10.13.0"
  }
 },
 "nbformat": 4,
 "nbformat_minor": 2
}
